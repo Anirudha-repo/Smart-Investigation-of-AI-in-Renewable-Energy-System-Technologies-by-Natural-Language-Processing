{
 "cells": [
  {
   "cell_type": "markdown",
   "id": "2841ff42-776c-47b5-a789-00654eb5c000",
   "metadata": {},
   "source": [
    "### Loading Data and Pre-processing"
   ]
  },
  {
   "cell_type": "code",
   "execution_count": 4,
   "id": "fd920b78-6a3b-4382-a871-79c3543e6ac1",
   "metadata": {},
   "outputs": [
    {
     "data": {
      "text/html": [
       "<div>\n",
       "<style scoped>\n",
       "    .dataframe tbody tr th:only-of-type {\n",
       "        vertical-align: middle;\n",
       "    }\n",
       "\n",
       "    .dataframe tbody tr th {\n",
       "        vertical-align: top;\n",
       "    }\n",
       "\n",
       "    .dataframe thead th {\n",
       "        text-align: right;\n",
       "    }\n",
       "</style>\n",
       "<table border=\"1\" class=\"dataframe\">\n",
       "  <thead>\n",
       "    <tr style=\"text-align: right;\">\n",
       "      <th></th>\n",
       "      <th>Title</th>\n",
       "      <th>Year</th>\n",
       "      <th>Link</th>\n",
       "      <th>Affiliations</th>\n",
       "      <th>Abstract</th>\n",
       "      <th>document</th>\n",
       "    </tr>\n",
       "  </thead>\n",
       "  <tbody>\n",
       "    <tr>\n",
       "      <th>0</th>\n",
       "      <td>Smart Cropping based on Predicted Solar Radiat...</td>\n",
       "      <td>2020</td>\n",
       "      <td>https://www.scopus.com/inward/record.uri?eid=2...</td>\n",
       "      <td>St. Thomas' College of Engineering and Technol...</td>\n",
       "      <td>Our world is developing very fast. This fast p...</td>\n",
       "      <td>Smart Cropping based on Predicted Solar Radiat...</td>\n",
       "    </tr>\n",
       "    <tr>\n",
       "      <th>1</th>\n",
       "      <td>Systematic literature review of photovoltaic o...</td>\n",
       "      <td>2020</td>\n",
       "      <td>https://www.scopus.com/inward/record.uri?eid=2...</td>\n",
       "      <td>Department of Energy Systems Engineering, Mani...</td>\n",
       "      <td>Since the harmful effects of climate warming o...</td>\n",
       "      <td>Systematic literature review of photovoltaic o...</td>\n",
       "    </tr>\n",
       "    <tr>\n",
       "      <th>2</th>\n",
       "      <td>Demystifying the use of era5-land and machine ...</td>\n",
       "      <td>2020</td>\n",
       "      <td>https://www.scopus.com/inward/record.uri?eid=2...</td>\n",
       "      <td>DRAMCO, Department of Electrical Engineering (...</td>\n",
       "      <td>Wind is a highly unstable renewable energy sou...</td>\n",
       "      <td>Demystifying the use of era5-land and machine ...</td>\n",
       "    </tr>\n",
       "    <tr>\n",
       "      <th>3</th>\n",
       "      <td>A CNN-Based Warning Information Preprocessing ...</td>\n",
       "      <td>2020</td>\n",
       "      <td>https://www.scopus.com/inward/record.uri?eid=2...</td>\n",
       "      <td>North China Electric Power University, School ...</td>\n",
       "      <td>The access of large-scale renewable energy and...</td>\n",
       "      <td>A CNN-Based Warning Information Preprocessing ...</td>\n",
       "    </tr>\n",
       "    <tr>\n",
       "      <th>4</th>\n",
       "      <td>Short-Term Photovoltaic Power Prediction Model...</td>\n",
       "      <td>2020</td>\n",
       "      <td>https://www.scopus.com/inward/record.uri?eid=2...</td>\n",
       "      <td>Northeastern University, College of Informatio...</td>\n",
       "      <td>In recent years, with the rapid expansion of t...</td>\n",
       "      <td>Short-Term Photovoltaic Power Prediction Model...</td>\n",
       "    </tr>\n",
       "  </tbody>\n",
       "</table>\n",
       "</div>"
      ],
      "text/plain": [
       "                                               Title  Year  \\\n",
       "0  Smart Cropping based on Predicted Solar Radiat...  2020   \n",
       "1  Systematic literature review of photovoltaic o...  2020   \n",
       "2  Demystifying the use of era5-land and machine ...  2020   \n",
       "3  A CNN-Based Warning Information Preprocessing ...  2020   \n",
       "4  Short-Term Photovoltaic Power Prediction Model...  2020   \n",
       "\n",
       "                                                Link  \\\n",
       "0  https://www.scopus.com/inward/record.uri?eid=2...   \n",
       "1  https://www.scopus.com/inward/record.uri?eid=2...   \n",
       "2  https://www.scopus.com/inward/record.uri?eid=2...   \n",
       "3  https://www.scopus.com/inward/record.uri?eid=2...   \n",
       "4  https://www.scopus.com/inward/record.uri?eid=2...   \n",
       "\n",
       "                                        Affiliations  \\\n",
       "0  St. Thomas' College of Engineering and Technol...   \n",
       "1  Department of Energy Systems Engineering, Mani...   \n",
       "2  DRAMCO, Department of Electrical Engineering (...   \n",
       "3  North China Electric Power University, School ...   \n",
       "4  Northeastern University, College of Informatio...   \n",
       "\n",
       "                                            Abstract  \\\n",
       "0  Our world is developing very fast. This fast p...   \n",
       "1  Since the harmful effects of climate warming o...   \n",
       "2  Wind is a highly unstable renewable energy sou...   \n",
       "3  The access of large-scale renewable energy and...   \n",
       "4  In recent years, with the rapid expansion of t...   \n",
       "\n",
       "                                            document  \n",
       "0  Smart Cropping based on Predicted Solar Radiat...  \n",
       "1  Systematic literature review of photovoltaic o...  \n",
       "2  Demystifying the use of era5-land and machine ...  \n",
       "3  A CNN-Based Warning Information Preprocessing ...  \n",
       "4  Short-Term Photovoltaic Power Prediction Model...  "
      ]
     },
     "execution_count": 4,
     "metadata": {},
     "output_type": "execute_result"
    }
   ],
   "source": [
    "import pandas as pd\n",
    "import re\n",
    "from bertopic import BERTopic\n",
    "\n",
    "# Loading the CSV file.\n",
    "df = pd.read_csv('AI in Renwable energies.csv')\n",
    "\n",
    "# Dropping rows with missing values\n",
    "df.dropna(subset=['Abstract', 'Title', 'Year'], inplace=True)\n",
    "df['Year'] = df['Year'].astype(int)\n",
    "\n",
    "# Combining Title and Abstract\n",
    "df['document'] = df['Title'] + \". \" + df['Abstract']\n",
    "\n",
    "df.head()"
   ]
  },
  {
   "cell_type": "markdown",
   "id": "99c920f1-fac1-4ef9-a75c-a1199c25c06d",
   "metadata": {},
   "source": [
    "### Topic Modeling with BERTopic"
   ]
  },
  {
   "cell_type": "code",
   "execution_count": 5,
   "id": "e214ab05-0d92-4391-8b98-be44770efe24",
   "metadata": {},
   "outputs": [
    {
     "name": "stdout",
     "output_type": "stream",
     "text": [
      "Requirement already satisfied: hf_xet in c:\\users\\aniruddha\\miniconda3\\envs\\bertopic_env\\lib\\site-packages (1.1.5)\n"
     ]
    }
   ],
   "source": [
    "!pip install hf_xet"
   ]
  },
  {
   "cell_type": "code",
   "execution_count": 6,
   "id": "371a4d5e-1bff-4fef-ac56-b68903a03086",
   "metadata": {},
   "outputs": [
    {
     "name": "stderr",
     "output_type": "stream",
     "text": [
      "2025-08-04 09:35:51,615 - BERTopic - Embedding - Transforming documents to embeddings.\n"
     ]
    },
    {
     "data": {
      "application/vnd.jupyter.widget-view+json": {
       "model_id": "4e476b56ebdb48568f8b7c9539115112",
       "version_major": 2,
       "version_minor": 0
      },
      "text/plain": [
       "Batches:   0%|          | 0/178 [00:00<?, ?it/s]"
      ]
     },
     "metadata": {},
     "output_type": "display_data"
    },
    {
     "name": "stderr",
     "output_type": "stream",
     "text": [
      "2025-08-04 09:41:22,813 - BERTopic - Embedding - Completed ✓\n",
      "2025-08-04 09:41:22,829 - BERTopic - Dimensionality - Fitting the dimensionality reduction algorithm\n",
      "2025-08-04 09:41:51,626 - BERTopic - Dimensionality - Completed ✓\n",
      "2025-08-04 09:41:51,649 - BERTopic - Cluster - Start clustering the reduced embeddings\n",
      "2025-08-04 09:41:51,984 - BERTopic - Cluster - Completed ✓\n",
      "2025-08-04 09:41:51,984 - BERTopic - Representation - Extracting topics using c-TF-IDF for topic reduction.\n",
      "2025-08-04 09:41:53,058 - BERTopic - Representation - Completed ✓\n",
      "2025-08-04 09:41:53,058 - BERTopic - Topic reduction - Reducing number of topics\n",
      "2025-08-04 09:41:53,106 - BERTopic - Representation - Fine-tuning topics using representation models.\n",
      "2025-08-04 09:41:54,055 - BERTopic - Representation - Completed ✓\n",
      "2025-08-04 09:41:54,055 - BERTopic - Topic reduction - Reduced number of topics from 94 to 29\n"
     ]
    },
    {
     "name": "stdout",
     "output_type": "stream",
     "text": [
      "Top 10 Topics Found:\n",
      "    Topic  Count                                    Name  \\\n",
      "0      -1   1814                        -1_the_of_and_to   \n",
      "1       0   2731                         0_the_of_and_to   \n",
      "2       1    444                 1_production_was_of_and   \n",
      "3       2     93           2_turbine_wind_fault_turbines   \n",
      "4       3     74                  3_biodiesel_oil_of_and   \n",
      "5       4     56      4_development_energy_countries_the   \n",
      "6       5     52  5_catalyst_hydrogen_catalysts_reaction   \n",
      "7       6     49                    6_biomass_and_the_of   \n",
      "8       7     41              7_battery_batteries_of_the   \n",
      "9       8     37              8_turbine_blade_the_design   \n",
      "10      9     33      9_materials_molecular_we_discovery   \n",
      "\n",
      "                                       Representation  \\\n",
      "0   [the, of, and, to, in, energy, is, for, power,...   \n",
      "1   [the, of, and, to, in, is, energy, power, for,...   \n",
      "2   [production, was, of, and, biogas, the, methan...   \n",
      "3   [turbine, wind, fault, turbines, maintenance, ...   \n",
      "4   [biodiesel, oil, of, and, the, fuel, was, engi...   \n",
      "5   [development, energy, countries, the, and, ana...   \n",
      "6   [catalyst, hydrogen, catalysts, reaction, nabh...   \n",
      "7   [biomass, and, the, of, decision, forest, to, ...   \n",
      "8   [battery, batteries, of, the, soc, estimation,...   \n",
      "9   [turbine, blade, the, design, wind, of, to, is...   \n",
      "10  [materials, molecular, we, discovery, of, for,...   \n",
      "\n",
      "                                  Representative_Docs  \n",
      "0   [Direct and Indirect Prediction of Net Demand ...  \n",
      "1   [Educational experiments in renewable energy a...  \n",
      "2   [Effect of organic waste addition into animal ...  \n",
      "3   [Scada data analysis methods for diagnosis of ...  \n",
      "4   [A Composition-Based Model to Predict and Opti...  \n",
      "5   [A Study on the Comprehensive Evaluation and A...  \n",
      "6   [Hydrogen generation from sodium borohydride w...  \n",
      "7   [Planning woody biomass logistics for energy p...  \n",
      "8   [State of Charge (SoC) Estimation of Battery E...  \n",
      "9   [Rapid estimate of wind turbine energy loss du...  \n",
      "10  [Transfer Learning Using Ensemble Neural Netwo...  \n"
     ]
    }
   ],
   "source": [
    "# Initialize BERTopic model.\n",
    "topic_model = BERTopic(nr_topics='auto', verbose=True)\n",
    "\n",
    "# Fit the model to the documents.\n",
    "topics, probabilities = topic_model.fit_transform(df['document'])\n",
    "\n",
    "# Get the list of topics and their top words\n",
    "topic_info = topic_model.get_topic_info()\n",
    "print(\"Top 10 Topics Found:\")\n",
    "print(topic_info.head(11)) # We'll print 11 because -1 is the outlier topic"
   ]
  },
  {
   "cell_type": "markdown",
   "id": "eaa83937-8764-4641-a645-49d1f18fe400",
   "metadata": {},
   "source": [
    "### Data Visualization"
   ]
  },
  {
   "cell_type": "code",
   "execution_count": 7,
   "id": "4383eadf-72ca-43cd-8d3d-1c10487bfa38",
   "metadata": {},
   "outputs": [
    {
     "data": {
      "application/vnd.plotly.v1+json": {
       "config": {
        "plotlyServerURL": "https://plot.ly"
       },
       "data": [
        {
         "customdata": [
          [
           0,
           "the | of | and | to | in",
           2731
          ],
          [
           1,
           "production | was | of | and | biogas",
           444
          ],
          [
           2,
           "turbine | wind | fault | turbines | maintenance",
           93
          ],
          [
           3,
           "biodiesel | oil | of | and | the",
           74
          ],
          [
           4,
           "development | energy | countries | the | and",
           56
          ],
          [
           5,
           "catalyst | hydrogen | catalysts | reaction | nabh4",
           52
          ],
          [
           6,
           "biomass | and | the | of | decision",
           49
          ],
          [
           7,
           "battery | batteries | of | the | soc",
           41
          ],
          [
           8,
           "turbine | blade | the | design | wind",
           37
          ],
          [
           9,
           "materials | molecular | we | discovery | of",
           33
          ],
          [
           10,
           "fuel | cell | pemfc | cells | proton",
           25
          ],
          [
           11,
           "students | engineering | teaching | education | and",
           19
          ],
          [
           12,
           "inverter | multilevel | switching | the | voltage",
           17
          ],
          [
           13,
           "bioenergy | students | public | to | intentions",
           16
          ],
          [
           14,
           "islanding | detection | method | is | in",
           16
          ],
          [
           15,
           "the | offshore | of | and | marine",
           15
          ],
          [
           16,
           "revolution | industrial | technologies | fourth | and",
           14
          ],
          [
           17,
           "membrane | membranes | oxygen | permeation | perovskite",
           14
          ],
          [
           18,
           "wood | of | and | the | biomass",
           14
          ],
          [
           19,
           "electrolyte | of | cell | water | for",
           13
          ],
          [
           20,
           "thin | films | nanoparticles | oxidation | of",
           13
          ],
          [
           21,
           "blockchain | energy | and | the | to",
           12
          ],
          [
           22,
           "coal | of | biomass | and | gasification",
           12
          ],
          [
           23,
           "rating | dlr | line | transmission | overhead",
           12
          ],
          [
           24,
           "geothermal | geothermometers | seismic | reservoir | shale",
           11
          ],
          [
           25,
           "tis | innovation | diffusion | technological | development",
           11
          ],
          [
           26,
           "anomaly | detection | data | gas | anomalous",
           10
          ],
          [
           27,
           "thermoelectric | cooling | fgm | fluid | temperature",
           10
          ]
         ],
         "hovertemplate": "<b>Topic %{customdata[0]}</b><br>%{customdata[1]}<br>Size: %{customdata[2]}",
         "legendgroup": "",
         "marker": {
          "color": "#B0BEC5",
          "line": {
           "color": "DarkSlateGrey",
           "width": 2
          },
          "size": {
           "bdata": "qwq8AV0ASgA4ADQAMQApACUAIQAZABMAEQAQABAADwAOAA4ADgANAA0ADAAMAAwACwALAAoACgA=",
           "dtype": "i2"
          },
          "sizemode": "area",
          "sizeref": 1.706875,
          "symbol": "circle"
         },
         "mode": "markers",
         "name": "",
         "orientation": "v",
         "showlegend": false,
         "type": "scatter",
         "x": {
          "bdata": "qpc3QWfuaD/WgDxBBodEP5YyR8GlpJFBkonCPfesFUCwXTxBfewFQC9vQUEWX8PAIb4+QYOnSMEuOzpBJJB9vYv9ysDt2ZNBK9fZPmKklEGEoI9B1pxEQUl0bz9esk9BEApHQWhsz8AAXENBVe+VQQ==",
          "dtype": "f4"
         },
         "xaxis": "x",
         "y": {
          "bdata": "bTnjQDGRx8HNa/ZAlwDIwdoyPEFH6Pq/dVvNwT98LUEO/f5AmdwwQY42zUBdLSbBS4jjQB++OkHcwNhAjM/Owc77KcGfnte/S63LweEEy78qfg3AotLkQJUvysF5fdlAqiXUQCYzLMHdL/1AV1G2vw==",
          "dtype": "f4"
         },
         "yaxis": "y"
        }
       ],
       "layout": {
        "annotations": [
         {
          "showarrow": false,
          "text": "D1",
          "x": -14.42203140258789,
          "y": -8.1011323928833,
          "yshift": 10
         },
         {
          "showarrow": false,
          "text": "D2",
          "x": 3.565554618835449,
          "xshift": 10,
          "y": 13.526777267456055
         }
        ],
        "height": 650,
        "hoverlabel": {
         "bgcolor": "white",
         "font": {
          "family": "Rockwell",
          "size": 16
         }
        },
        "legend": {
         "itemsizing": "constant",
         "tracegroupgap": 0
        },
        "margin": {
         "t": 60
        },
        "shapes": [
         {
          "line": {
           "color": "#CFD8DC",
           "width": 2
          },
          "type": "line",
          "x0": 3.565554618835449,
          "x1": 3.565554618835449,
          "y0": -29.729042053222656,
          "y1": 13.526777267456055
         },
         {
          "line": {
           "color": "#9E9E9E",
           "width": 2
          },
          "type": "line",
          "x0": -14.42203140258789,
          "x1": 21.55314064025879,
          "y0": -8.1011323928833,
          "y1": -8.1011323928833
         }
        ],
        "sliders": [
         {
          "active": 0,
          "pad": {
           "t": 50
          },
          "steps": [
           {
            "args": [
             {
              "marker.color": [
               [
                "red",
                "#B0BEC5",
                "#B0BEC5",
                "#B0BEC5",
                "#B0BEC5",
                "#B0BEC5",
                "#B0BEC5",
                "#B0BEC5",
                "#B0BEC5",
                "#B0BEC5",
                "#B0BEC5",
                "#B0BEC5",
                "#B0BEC5",
                "#B0BEC5",
                "#B0BEC5",
                "#B0BEC5",
                "#B0BEC5",
                "#B0BEC5",
                "#B0BEC5",
                "#B0BEC5",
                "#B0BEC5",
                "#B0BEC5",
                "#B0BEC5",
                "#B0BEC5",
                "#B0BEC5",
                "#B0BEC5",
                "#B0BEC5",
                "#B0BEC5"
               ]
              ]
             }
            ],
            "label": "Topic 0",
            "method": "update"
           },
           {
            "args": [
             {
              "marker.color": [
               [
                "#B0BEC5",
                "red",
                "#B0BEC5",
                "#B0BEC5",
                "#B0BEC5",
                "#B0BEC5",
                "#B0BEC5",
                "#B0BEC5",
                "#B0BEC5",
                "#B0BEC5",
                "#B0BEC5",
                "#B0BEC5",
                "#B0BEC5",
                "#B0BEC5",
                "#B0BEC5",
                "#B0BEC5",
                "#B0BEC5",
                "#B0BEC5",
                "#B0BEC5",
                "#B0BEC5",
                "#B0BEC5",
                "#B0BEC5",
                "#B0BEC5",
                "#B0BEC5",
                "#B0BEC5",
                "#B0BEC5",
                "#B0BEC5",
                "#B0BEC5"
               ]
              ]
             }
            ],
            "label": "Topic 1",
            "method": "update"
           },
           {
            "args": [
             {
              "marker.color": [
               [
                "#B0BEC5",
                "#B0BEC5",
                "red",
                "#B0BEC5",
                "#B0BEC5",
                "#B0BEC5",
                "#B0BEC5",
                "#B0BEC5",
                "#B0BEC5",
                "#B0BEC5",
                "#B0BEC5",
                "#B0BEC5",
                "#B0BEC5",
                "#B0BEC5",
                "#B0BEC5",
                "#B0BEC5",
                "#B0BEC5",
                "#B0BEC5",
                "#B0BEC5",
                "#B0BEC5",
                "#B0BEC5",
                "#B0BEC5",
                "#B0BEC5",
                "#B0BEC5",
                "#B0BEC5",
                "#B0BEC5",
                "#B0BEC5",
                "#B0BEC5"
               ]
              ]
             }
            ],
            "label": "Topic 2",
            "method": "update"
           },
           {
            "args": [
             {
              "marker.color": [
               [
                "#B0BEC5",
                "#B0BEC5",
                "#B0BEC5",
                "red",
                "#B0BEC5",
                "#B0BEC5",
                "#B0BEC5",
                "#B0BEC5",
                "#B0BEC5",
                "#B0BEC5",
                "#B0BEC5",
                "#B0BEC5",
                "#B0BEC5",
                "#B0BEC5",
                "#B0BEC5",
                "#B0BEC5",
                "#B0BEC5",
                "#B0BEC5",
                "#B0BEC5",
                "#B0BEC5",
                "#B0BEC5",
                "#B0BEC5",
                "#B0BEC5",
                "#B0BEC5",
                "#B0BEC5",
                "#B0BEC5",
                "#B0BEC5",
                "#B0BEC5"
               ]
              ]
             }
            ],
            "label": "Topic 3",
            "method": "update"
           },
           {
            "args": [
             {
              "marker.color": [
               [
                "#B0BEC5",
                "#B0BEC5",
                "#B0BEC5",
                "#B0BEC5",
                "red",
                "#B0BEC5",
                "#B0BEC5",
                "#B0BEC5",
                "#B0BEC5",
                "#B0BEC5",
                "#B0BEC5",
                "#B0BEC5",
                "#B0BEC5",
                "#B0BEC5",
                "#B0BEC5",
                "#B0BEC5",
                "#B0BEC5",
                "#B0BEC5",
                "#B0BEC5",
                "#B0BEC5",
                "#B0BEC5",
                "#B0BEC5",
                "#B0BEC5",
                "#B0BEC5",
                "#B0BEC5",
                "#B0BEC5",
                "#B0BEC5",
                "#B0BEC5"
               ]
              ]
             }
            ],
            "label": "Topic 4",
            "method": "update"
           },
           {
            "args": [
             {
              "marker.color": [
               [
                "#B0BEC5",
                "#B0BEC5",
                "#B0BEC5",
                "#B0BEC5",
                "#B0BEC5",
                "red",
                "#B0BEC5",
                "#B0BEC5",
                "#B0BEC5",
                "#B0BEC5",
                "#B0BEC5",
                "#B0BEC5",
                "#B0BEC5",
                "#B0BEC5",
                "#B0BEC5",
                "#B0BEC5",
                "#B0BEC5",
                "#B0BEC5",
                "#B0BEC5",
                "#B0BEC5",
                "#B0BEC5",
                "#B0BEC5",
                "#B0BEC5",
                "#B0BEC5",
                "#B0BEC5",
                "#B0BEC5",
                "#B0BEC5",
                "#B0BEC5"
               ]
              ]
             }
            ],
            "label": "Topic 5",
            "method": "update"
           },
           {
            "args": [
             {
              "marker.color": [
               [
                "#B0BEC5",
                "#B0BEC5",
                "#B0BEC5",
                "#B0BEC5",
                "#B0BEC5",
                "#B0BEC5",
                "red",
                "#B0BEC5",
                "#B0BEC5",
                "#B0BEC5",
                "#B0BEC5",
                "#B0BEC5",
                "#B0BEC5",
                "#B0BEC5",
                "#B0BEC5",
                "#B0BEC5",
                "#B0BEC5",
                "#B0BEC5",
                "#B0BEC5",
                "#B0BEC5",
                "#B0BEC5",
                "#B0BEC5",
                "#B0BEC5",
                "#B0BEC5",
                "#B0BEC5",
                "#B0BEC5",
                "#B0BEC5",
                "#B0BEC5"
               ]
              ]
             }
            ],
            "label": "Topic 6",
            "method": "update"
           },
           {
            "args": [
             {
              "marker.color": [
               [
                "#B0BEC5",
                "#B0BEC5",
                "#B0BEC5",
                "#B0BEC5",
                "#B0BEC5",
                "#B0BEC5",
                "#B0BEC5",
                "red",
                "#B0BEC5",
                "#B0BEC5",
                "#B0BEC5",
                "#B0BEC5",
                "#B0BEC5",
                "#B0BEC5",
                "#B0BEC5",
                "#B0BEC5",
                "#B0BEC5",
                "#B0BEC5",
                "#B0BEC5",
                "#B0BEC5",
                "#B0BEC5",
                "#B0BEC5",
                "#B0BEC5",
                "#B0BEC5",
                "#B0BEC5",
                "#B0BEC5",
                "#B0BEC5",
                "#B0BEC5"
               ]
              ]
             }
            ],
            "label": "Topic 7",
            "method": "update"
           },
           {
            "args": [
             {
              "marker.color": [
               [
                "#B0BEC5",
                "#B0BEC5",
                "#B0BEC5",
                "#B0BEC5",
                "#B0BEC5",
                "#B0BEC5",
                "#B0BEC5",
                "#B0BEC5",
                "red",
                "#B0BEC5",
                "#B0BEC5",
                "#B0BEC5",
                "#B0BEC5",
                "#B0BEC5",
                "#B0BEC5",
                "#B0BEC5",
                "#B0BEC5",
                "#B0BEC5",
                "#B0BEC5",
                "#B0BEC5",
                "#B0BEC5",
                "#B0BEC5",
                "#B0BEC5",
                "#B0BEC5",
                "#B0BEC5",
                "#B0BEC5",
                "#B0BEC5",
                "#B0BEC5"
               ]
              ]
             }
            ],
            "label": "Topic 8",
            "method": "update"
           },
           {
            "args": [
             {
              "marker.color": [
               [
                "#B0BEC5",
                "#B0BEC5",
                "#B0BEC5",
                "#B0BEC5",
                "#B0BEC5",
                "#B0BEC5",
                "#B0BEC5",
                "#B0BEC5",
                "#B0BEC5",
                "red",
                "#B0BEC5",
                "#B0BEC5",
                "#B0BEC5",
                "#B0BEC5",
                "#B0BEC5",
                "#B0BEC5",
                "#B0BEC5",
                "#B0BEC5",
                "#B0BEC5",
                "#B0BEC5",
                "#B0BEC5",
                "#B0BEC5",
                "#B0BEC5",
                "#B0BEC5",
                "#B0BEC5",
                "#B0BEC5",
                "#B0BEC5",
                "#B0BEC5"
               ]
              ]
             }
            ],
            "label": "Topic 9",
            "method": "update"
           },
           {
            "args": [
             {
              "marker.color": [
               [
                "#B0BEC5",
                "#B0BEC5",
                "#B0BEC5",
                "#B0BEC5",
                "#B0BEC5",
                "#B0BEC5",
                "#B0BEC5",
                "#B0BEC5",
                "#B0BEC5",
                "#B0BEC5",
                "red",
                "#B0BEC5",
                "#B0BEC5",
                "#B0BEC5",
                "#B0BEC5",
                "#B0BEC5",
                "#B0BEC5",
                "#B0BEC5",
                "#B0BEC5",
                "#B0BEC5",
                "#B0BEC5",
                "#B0BEC5",
                "#B0BEC5",
                "#B0BEC5",
                "#B0BEC5",
                "#B0BEC5",
                "#B0BEC5",
                "#B0BEC5"
               ]
              ]
             }
            ],
            "label": "Topic 10",
            "method": "update"
           },
           {
            "args": [
             {
              "marker.color": [
               [
                "#B0BEC5",
                "#B0BEC5",
                "#B0BEC5",
                "#B0BEC5",
                "#B0BEC5",
                "#B0BEC5",
                "#B0BEC5",
                "#B0BEC5",
                "#B0BEC5",
                "#B0BEC5",
                "#B0BEC5",
                "red",
                "#B0BEC5",
                "#B0BEC5",
                "#B0BEC5",
                "#B0BEC5",
                "#B0BEC5",
                "#B0BEC5",
                "#B0BEC5",
                "#B0BEC5",
                "#B0BEC5",
                "#B0BEC5",
                "#B0BEC5",
                "#B0BEC5",
                "#B0BEC5",
                "#B0BEC5",
                "#B0BEC5",
                "#B0BEC5"
               ]
              ]
             }
            ],
            "label": "Topic 11",
            "method": "update"
           },
           {
            "args": [
             {
              "marker.color": [
               [
                "#B0BEC5",
                "#B0BEC5",
                "#B0BEC5",
                "#B0BEC5",
                "#B0BEC5",
                "#B0BEC5",
                "#B0BEC5",
                "#B0BEC5",
                "#B0BEC5",
                "#B0BEC5",
                "#B0BEC5",
                "#B0BEC5",
                "red",
                "#B0BEC5",
                "#B0BEC5",
                "#B0BEC5",
                "#B0BEC5",
                "#B0BEC5",
                "#B0BEC5",
                "#B0BEC5",
                "#B0BEC5",
                "#B0BEC5",
                "#B0BEC5",
                "#B0BEC5",
                "#B0BEC5",
                "#B0BEC5",
                "#B0BEC5",
                "#B0BEC5"
               ]
              ]
             }
            ],
            "label": "Topic 12",
            "method": "update"
           },
           {
            "args": [
             {
              "marker.color": [
               [
                "#B0BEC5",
                "#B0BEC5",
                "#B0BEC5",
                "#B0BEC5",
                "#B0BEC5",
                "#B0BEC5",
                "#B0BEC5",
                "#B0BEC5",
                "#B0BEC5",
                "#B0BEC5",
                "#B0BEC5",
                "#B0BEC5",
                "#B0BEC5",
                "red",
                "#B0BEC5",
                "#B0BEC5",
                "#B0BEC5",
                "#B0BEC5",
                "#B0BEC5",
                "#B0BEC5",
                "#B0BEC5",
                "#B0BEC5",
                "#B0BEC5",
                "#B0BEC5",
                "#B0BEC5",
                "#B0BEC5",
                "#B0BEC5",
                "#B0BEC5"
               ]
              ]
             }
            ],
            "label": "Topic 13",
            "method": "update"
           },
           {
            "args": [
             {
              "marker.color": [
               [
                "#B0BEC5",
                "#B0BEC5",
                "#B0BEC5",
                "#B0BEC5",
                "#B0BEC5",
                "#B0BEC5",
                "#B0BEC5",
                "#B0BEC5",
                "#B0BEC5",
                "#B0BEC5",
                "#B0BEC5",
                "#B0BEC5",
                "#B0BEC5",
                "#B0BEC5",
                "red",
                "#B0BEC5",
                "#B0BEC5",
                "#B0BEC5",
                "#B0BEC5",
                "#B0BEC5",
                "#B0BEC5",
                "#B0BEC5",
                "#B0BEC5",
                "#B0BEC5",
                "#B0BEC5",
                "#B0BEC5",
                "#B0BEC5",
                "#B0BEC5"
               ]
              ]
             }
            ],
            "label": "Topic 14",
            "method": "update"
           },
           {
            "args": [
             {
              "marker.color": [
               [
                "#B0BEC5",
                "#B0BEC5",
                "#B0BEC5",
                "#B0BEC5",
                "#B0BEC5",
                "#B0BEC5",
                "#B0BEC5",
                "#B0BEC5",
                "#B0BEC5",
                "#B0BEC5",
                "#B0BEC5",
                "#B0BEC5",
                "#B0BEC5",
                "#B0BEC5",
                "#B0BEC5",
                "red",
                "#B0BEC5",
                "#B0BEC5",
                "#B0BEC5",
                "#B0BEC5",
                "#B0BEC5",
                "#B0BEC5",
                "#B0BEC5",
                "#B0BEC5",
                "#B0BEC5",
                "#B0BEC5",
                "#B0BEC5",
                "#B0BEC5"
               ]
              ]
             }
            ],
            "label": "Topic 15",
            "method": "update"
           },
           {
            "args": [
             {
              "marker.color": [
               [
                "#B0BEC5",
                "#B0BEC5",
                "#B0BEC5",
                "#B0BEC5",
                "#B0BEC5",
                "#B0BEC5",
                "#B0BEC5",
                "#B0BEC5",
                "#B0BEC5",
                "#B0BEC5",
                "#B0BEC5",
                "#B0BEC5",
                "#B0BEC5",
                "#B0BEC5",
                "#B0BEC5",
                "#B0BEC5",
                "red",
                "#B0BEC5",
                "#B0BEC5",
                "#B0BEC5",
                "#B0BEC5",
                "#B0BEC5",
                "#B0BEC5",
                "#B0BEC5",
                "#B0BEC5",
                "#B0BEC5",
                "#B0BEC5",
                "#B0BEC5"
               ]
              ]
             }
            ],
            "label": "Topic 16",
            "method": "update"
           },
           {
            "args": [
             {
              "marker.color": [
               [
                "#B0BEC5",
                "#B0BEC5",
                "#B0BEC5",
                "#B0BEC5",
                "#B0BEC5",
                "#B0BEC5",
                "#B0BEC5",
                "#B0BEC5",
                "#B0BEC5",
                "#B0BEC5",
                "#B0BEC5",
                "#B0BEC5",
                "#B0BEC5",
                "#B0BEC5",
                "#B0BEC5",
                "#B0BEC5",
                "#B0BEC5",
                "red",
                "#B0BEC5",
                "#B0BEC5",
                "#B0BEC5",
                "#B0BEC5",
                "#B0BEC5",
                "#B0BEC5",
                "#B0BEC5",
                "#B0BEC5",
                "#B0BEC5",
                "#B0BEC5"
               ]
              ]
             }
            ],
            "label": "Topic 17",
            "method": "update"
           },
           {
            "args": [
             {
              "marker.color": [
               [
                "#B0BEC5",
                "#B0BEC5",
                "#B0BEC5",
                "#B0BEC5",
                "#B0BEC5",
                "#B0BEC5",
                "#B0BEC5",
                "#B0BEC5",
                "#B0BEC5",
                "#B0BEC5",
                "#B0BEC5",
                "#B0BEC5",
                "#B0BEC5",
                "#B0BEC5",
                "#B0BEC5",
                "#B0BEC5",
                "#B0BEC5",
                "#B0BEC5",
                "red",
                "#B0BEC5",
                "#B0BEC5",
                "#B0BEC5",
                "#B0BEC5",
                "#B0BEC5",
                "#B0BEC5",
                "#B0BEC5",
                "#B0BEC5",
                "#B0BEC5"
               ]
              ]
             }
            ],
            "label": "Topic 18",
            "method": "update"
           },
           {
            "args": [
             {
              "marker.color": [
               [
                "#B0BEC5",
                "#B0BEC5",
                "#B0BEC5",
                "#B0BEC5",
                "#B0BEC5",
                "#B0BEC5",
                "#B0BEC5",
                "#B0BEC5",
                "#B0BEC5",
                "#B0BEC5",
                "#B0BEC5",
                "#B0BEC5",
                "#B0BEC5",
                "#B0BEC5",
                "#B0BEC5",
                "#B0BEC5",
                "#B0BEC5",
                "#B0BEC5",
                "#B0BEC5",
                "red",
                "#B0BEC5",
                "#B0BEC5",
                "#B0BEC5",
                "#B0BEC5",
                "#B0BEC5",
                "#B0BEC5",
                "#B0BEC5",
                "#B0BEC5"
               ]
              ]
             }
            ],
            "label": "Topic 19",
            "method": "update"
           },
           {
            "args": [
             {
              "marker.color": [
               [
                "#B0BEC5",
                "#B0BEC5",
                "#B0BEC5",
                "#B0BEC5",
                "#B0BEC5",
                "#B0BEC5",
                "#B0BEC5",
                "#B0BEC5",
                "#B0BEC5",
                "#B0BEC5",
                "#B0BEC5",
                "#B0BEC5",
                "#B0BEC5",
                "#B0BEC5",
                "#B0BEC5",
                "#B0BEC5",
                "#B0BEC5",
                "#B0BEC5",
                "#B0BEC5",
                "#B0BEC5",
                "red",
                "#B0BEC5",
                "#B0BEC5",
                "#B0BEC5",
                "#B0BEC5",
                "#B0BEC5",
                "#B0BEC5",
                "#B0BEC5"
               ]
              ]
             }
            ],
            "label": "Topic 20",
            "method": "update"
           },
           {
            "args": [
             {
              "marker.color": [
               [
                "#B0BEC5",
                "#B0BEC5",
                "#B0BEC5",
                "#B0BEC5",
                "#B0BEC5",
                "#B0BEC5",
                "#B0BEC5",
                "#B0BEC5",
                "#B0BEC5",
                "#B0BEC5",
                "#B0BEC5",
                "#B0BEC5",
                "#B0BEC5",
                "#B0BEC5",
                "#B0BEC5",
                "#B0BEC5",
                "#B0BEC5",
                "#B0BEC5",
                "#B0BEC5",
                "#B0BEC5",
                "#B0BEC5",
                "red",
                "#B0BEC5",
                "#B0BEC5",
                "#B0BEC5",
                "#B0BEC5",
                "#B0BEC5",
                "#B0BEC5"
               ]
              ]
             }
            ],
            "label": "Topic 21",
            "method": "update"
           },
           {
            "args": [
             {
              "marker.color": [
               [
                "#B0BEC5",
                "#B0BEC5",
                "#B0BEC5",
                "#B0BEC5",
                "#B0BEC5",
                "#B0BEC5",
                "#B0BEC5",
                "#B0BEC5",
                "#B0BEC5",
                "#B0BEC5",
                "#B0BEC5",
                "#B0BEC5",
                "#B0BEC5",
                "#B0BEC5",
                "#B0BEC5",
                "#B0BEC5",
                "#B0BEC5",
                "#B0BEC5",
                "#B0BEC5",
                "#B0BEC5",
                "#B0BEC5",
                "#B0BEC5",
                "red",
                "#B0BEC5",
                "#B0BEC5",
                "#B0BEC5",
                "#B0BEC5",
                "#B0BEC5"
               ]
              ]
             }
            ],
            "label": "Topic 22",
            "method": "update"
           },
           {
            "args": [
             {
              "marker.color": [
               [
                "#B0BEC5",
                "#B0BEC5",
                "#B0BEC5",
                "#B0BEC5",
                "#B0BEC5",
                "#B0BEC5",
                "#B0BEC5",
                "#B0BEC5",
                "#B0BEC5",
                "#B0BEC5",
                "#B0BEC5",
                "#B0BEC5",
                "#B0BEC5",
                "#B0BEC5",
                "#B0BEC5",
                "#B0BEC5",
                "#B0BEC5",
                "#B0BEC5",
                "#B0BEC5",
                "#B0BEC5",
                "#B0BEC5",
                "#B0BEC5",
                "#B0BEC5",
                "red",
                "#B0BEC5",
                "#B0BEC5",
                "#B0BEC5",
                "#B0BEC5"
               ]
              ]
             }
            ],
            "label": "Topic 23",
            "method": "update"
           },
           {
            "args": [
             {
              "marker.color": [
               [
                "#B0BEC5",
                "#B0BEC5",
                "#B0BEC5",
                "#B0BEC5",
                "#B0BEC5",
                "#B0BEC5",
                "#B0BEC5",
                "#B0BEC5",
                "#B0BEC5",
                "#B0BEC5",
                "#B0BEC5",
                "#B0BEC5",
                "#B0BEC5",
                "#B0BEC5",
                "#B0BEC5",
                "#B0BEC5",
                "#B0BEC5",
                "#B0BEC5",
                "#B0BEC5",
                "#B0BEC5",
                "#B0BEC5",
                "#B0BEC5",
                "#B0BEC5",
                "#B0BEC5",
                "red",
                "#B0BEC5",
                "#B0BEC5",
                "#B0BEC5"
               ]
              ]
             }
            ],
            "label": "Topic 24",
            "method": "update"
           },
           {
            "args": [
             {
              "marker.color": [
               [
                "#B0BEC5",
                "#B0BEC5",
                "#B0BEC5",
                "#B0BEC5",
                "#B0BEC5",
                "#B0BEC5",
                "#B0BEC5",
                "#B0BEC5",
                "#B0BEC5",
                "#B0BEC5",
                "#B0BEC5",
                "#B0BEC5",
                "#B0BEC5",
                "#B0BEC5",
                "#B0BEC5",
                "#B0BEC5",
                "#B0BEC5",
                "#B0BEC5",
                "#B0BEC5",
                "#B0BEC5",
                "#B0BEC5",
                "#B0BEC5",
                "#B0BEC5",
                "#B0BEC5",
                "#B0BEC5",
                "red",
                "#B0BEC5",
                "#B0BEC5"
               ]
              ]
             }
            ],
            "label": "Topic 25",
            "method": "update"
           },
           {
            "args": [
             {
              "marker.color": [
               [
                "#B0BEC5",
                "#B0BEC5",
                "#B0BEC5",
                "#B0BEC5",
                "#B0BEC5",
                "#B0BEC5",
                "#B0BEC5",
                "#B0BEC5",
                "#B0BEC5",
                "#B0BEC5",
                "#B0BEC5",
                "#B0BEC5",
                "#B0BEC5",
                "#B0BEC5",
                "#B0BEC5",
                "#B0BEC5",
                "#B0BEC5",
                "#B0BEC5",
                "#B0BEC5",
                "#B0BEC5",
                "#B0BEC5",
                "#B0BEC5",
                "#B0BEC5",
                "#B0BEC5",
                "#B0BEC5",
                "#B0BEC5",
                "red",
                "#B0BEC5"
               ]
              ]
             }
            ],
            "label": "Topic 26",
            "method": "update"
           },
           {
            "args": [
             {
              "marker.color": [
               [
                "#B0BEC5",
                "#B0BEC5",
                "#B0BEC5",
                "#B0BEC5",
                "#B0BEC5",
                "#B0BEC5",
                "#B0BEC5",
                "#B0BEC5",
                "#B0BEC5",
                "#B0BEC5",
                "#B0BEC5",
                "#B0BEC5",
                "#B0BEC5",
                "#B0BEC5",
                "#B0BEC5",
                "#B0BEC5",
                "#B0BEC5",
                "#B0BEC5",
                "#B0BEC5",
                "#B0BEC5",
                "#B0BEC5",
                "#B0BEC5",
                "#B0BEC5",
                "#B0BEC5",
                "#B0BEC5",
                "#B0BEC5",
                "#B0BEC5",
                "red"
               ]
              ]
             }
            ],
            "label": "Topic 27",
            "method": "update"
           }
          ]
         }
        ],
        "template": {
         "data": {
          "bar": [
           {
            "error_x": {
             "color": "rgb(36,36,36)"
            },
            "error_y": {
             "color": "rgb(36,36,36)"
            },
            "marker": {
             "line": {
              "color": "white",
              "width": 0.5
             },
             "pattern": {
              "fillmode": "overlay",
              "size": 10,
              "solidity": 0.2
             }
            },
            "type": "bar"
           }
          ],
          "barpolar": [
           {
            "marker": {
             "line": {
              "color": "white",
              "width": 0.5
             },
             "pattern": {
              "fillmode": "overlay",
              "size": 10,
              "solidity": 0.2
             }
            },
            "type": "barpolar"
           }
          ],
          "carpet": [
           {
            "aaxis": {
             "endlinecolor": "rgb(36,36,36)",
             "gridcolor": "white",
             "linecolor": "white",
             "minorgridcolor": "white",
             "startlinecolor": "rgb(36,36,36)"
            },
            "baxis": {
             "endlinecolor": "rgb(36,36,36)",
             "gridcolor": "white",
             "linecolor": "white",
             "minorgridcolor": "white",
             "startlinecolor": "rgb(36,36,36)"
            },
            "type": "carpet"
           }
          ],
          "choropleth": [
           {
            "colorbar": {
             "outlinewidth": 1,
             "tickcolor": "rgb(36,36,36)",
             "ticks": "outside"
            },
            "type": "choropleth"
           }
          ],
          "contour": [
           {
            "colorbar": {
             "outlinewidth": 1,
             "tickcolor": "rgb(36,36,36)",
             "ticks": "outside"
            },
            "colorscale": [
             [
              0,
              "#440154"
             ],
             [
              0.1111111111111111,
              "#482878"
             ],
             [
              0.2222222222222222,
              "#3e4989"
             ],
             [
              0.3333333333333333,
              "#31688e"
             ],
             [
              0.4444444444444444,
              "#26828e"
             ],
             [
              0.5555555555555556,
              "#1f9e89"
             ],
             [
              0.6666666666666666,
              "#35b779"
             ],
             [
              0.7777777777777778,
              "#6ece58"
             ],
             [
              0.8888888888888888,
              "#b5de2b"
             ],
             [
              1,
              "#fde725"
             ]
            ],
            "type": "contour"
           }
          ],
          "contourcarpet": [
           {
            "colorbar": {
             "outlinewidth": 1,
             "tickcolor": "rgb(36,36,36)",
             "ticks": "outside"
            },
            "type": "contourcarpet"
           }
          ],
          "heatmap": [
           {
            "colorbar": {
             "outlinewidth": 1,
             "tickcolor": "rgb(36,36,36)",
             "ticks": "outside"
            },
            "colorscale": [
             [
              0,
              "#440154"
             ],
             [
              0.1111111111111111,
              "#482878"
             ],
             [
              0.2222222222222222,
              "#3e4989"
             ],
             [
              0.3333333333333333,
              "#31688e"
             ],
             [
              0.4444444444444444,
              "#26828e"
             ],
             [
              0.5555555555555556,
              "#1f9e89"
             ],
             [
              0.6666666666666666,
              "#35b779"
             ],
             [
              0.7777777777777778,
              "#6ece58"
             ],
             [
              0.8888888888888888,
              "#b5de2b"
             ],
             [
              1,
              "#fde725"
             ]
            ],
            "type": "heatmap"
           }
          ],
          "histogram": [
           {
            "marker": {
             "line": {
              "color": "white",
              "width": 0.6
             }
            },
            "type": "histogram"
           }
          ],
          "histogram2d": [
           {
            "colorbar": {
             "outlinewidth": 1,
             "tickcolor": "rgb(36,36,36)",
             "ticks": "outside"
            },
            "colorscale": [
             [
              0,
              "#440154"
             ],
             [
              0.1111111111111111,
              "#482878"
             ],
             [
              0.2222222222222222,
              "#3e4989"
             ],
             [
              0.3333333333333333,
              "#31688e"
             ],
             [
              0.4444444444444444,
              "#26828e"
             ],
             [
              0.5555555555555556,
              "#1f9e89"
             ],
             [
              0.6666666666666666,
              "#35b779"
             ],
             [
              0.7777777777777778,
              "#6ece58"
             ],
             [
              0.8888888888888888,
              "#b5de2b"
             ],
             [
              1,
              "#fde725"
             ]
            ],
            "type": "histogram2d"
           }
          ],
          "histogram2dcontour": [
           {
            "colorbar": {
             "outlinewidth": 1,
             "tickcolor": "rgb(36,36,36)",
             "ticks": "outside"
            },
            "colorscale": [
             [
              0,
              "#440154"
             ],
             [
              0.1111111111111111,
              "#482878"
             ],
             [
              0.2222222222222222,
              "#3e4989"
             ],
             [
              0.3333333333333333,
              "#31688e"
             ],
             [
              0.4444444444444444,
              "#26828e"
             ],
             [
              0.5555555555555556,
              "#1f9e89"
             ],
             [
              0.6666666666666666,
              "#35b779"
             ],
             [
              0.7777777777777778,
              "#6ece58"
             ],
             [
              0.8888888888888888,
              "#b5de2b"
             ],
             [
              1,
              "#fde725"
             ]
            ],
            "type": "histogram2dcontour"
           }
          ],
          "mesh3d": [
           {
            "colorbar": {
             "outlinewidth": 1,
             "tickcolor": "rgb(36,36,36)",
             "ticks": "outside"
            },
            "type": "mesh3d"
           }
          ],
          "parcoords": [
           {
            "line": {
             "colorbar": {
              "outlinewidth": 1,
              "tickcolor": "rgb(36,36,36)",
              "ticks": "outside"
             }
            },
            "type": "parcoords"
           }
          ],
          "pie": [
           {
            "automargin": true,
            "type": "pie"
           }
          ],
          "scatter": [
           {
            "fillpattern": {
             "fillmode": "overlay",
             "size": 10,
             "solidity": 0.2
            },
            "type": "scatter"
           }
          ],
          "scatter3d": [
           {
            "line": {
             "colorbar": {
              "outlinewidth": 1,
              "tickcolor": "rgb(36,36,36)",
              "ticks": "outside"
             }
            },
            "marker": {
             "colorbar": {
              "outlinewidth": 1,
              "tickcolor": "rgb(36,36,36)",
              "ticks": "outside"
             }
            },
            "type": "scatter3d"
           }
          ],
          "scattercarpet": [
           {
            "marker": {
             "colorbar": {
              "outlinewidth": 1,
              "tickcolor": "rgb(36,36,36)",
              "ticks": "outside"
             }
            },
            "type": "scattercarpet"
           }
          ],
          "scattergeo": [
           {
            "marker": {
             "colorbar": {
              "outlinewidth": 1,
              "tickcolor": "rgb(36,36,36)",
              "ticks": "outside"
             }
            },
            "type": "scattergeo"
           }
          ],
          "scattergl": [
           {
            "marker": {
             "colorbar": {
              "outlinewidth": 1,
              "tickcolor": "rgb(36,36,36)",
              "ticks": "outside"
             }
            },
            "type": "scattergl"
           }
          ],
          "scattermap": [
           {
            "marker": {
             "colorbar": {
              "outlinewidth": 1,
              "tickcolor": "rgb(36,36,36)",
              "ticks": "outside"
             }
            },
            "type": "scattermap"
           }
          ],
          "scattermapbox": [
           {
            "marker": {
             "colorbar": {
              "outlinewidth": 1,
              "tickcolor": "rgb(36,36,36)",
              "ticks": "outside"
             }
            },
            "type": "scattermapbox"
           }
          ],
          "scatterpolar": [
           {
            "marker": {
             "colorbar": {
              "outlinewidth": 1,
              "tickcolor": "rgb(36,36,36)",
              "ticks": "outside"
             }
            },
            "type": "scatterpolar"
           }
          ],
          "scatterpolargl": [
           {
            "marker": {
             "colorbar": {
              "outlinewidth": 1,
              "tickcolor": "rgb(36,36,36)",
              "ticks": "outside"
             }
            },
            "type": "scatterpolargl"
           }
          ],
          "scatterternary": [
           {
            "marker": {
             "colorbar": {
              "outlinewidth": 1,
              "tickcolor": "rgb(36,36,36)",
              "ticks": "outside"
             }
            },
            "type": "scatterternary"
           }
          ],
          "surface": [
           {
            "colorbar": {
             "outlinewidth": 1,
             "tickcolor": "rgb(36,36,36)",
             "ticks": "outside"
            },
            "colorscale": [
             [
              0,
              "#440154"
             ],
             [
              0.1111111111111111,
              "#482878"
             ],
             [
              0.2222222222222222,
              "#3e4989"
             ],
             [
              0.3333333333333333,
              "#31688e"
             ],
             [
              0.4444444444444444,
              "#26828e"
             ],
             [
              0.5555555555555556,
              "#1f9e89"
             ],
             [
              0.6666666666666666,
              "#35b779"
             ],
             [
              0.7777777777777778,
              "#6ece58"
             ],
             [
              0.8888888888888888,
              "#b5de2b"
             ],
             [
              1,
              "#fde725"
             ]
            ],
            "type": "surface"
           }
          ],
          "table": [
           {
            "cells": {
             "fill": {
              "color": "rgb(237,237,237)"
             },
             "line": {
              "color": "white"
             }
            },
            "header": {
             "fill": {
              "color": "rgb(217,217,217)"
             },
             "line": {
              "color": "white"
             }
            },
            "type": "table"
           }
          ]
         },
         "layout": {
          "annotationdefaults": {
           "arrowhead": 0,
           "arrowwidth": 1
          },
          "autotypenumbers": "strict",
          "coloraxis": {
           "colorbar": {
            "outlinewidth": 1,
            "tickcolor": "rgb(36,36,36)",
            "ticks": "outside"
           }
          },
          "colorscale": {
           "diverging": [
            [
             0,
             "rgb(103,0,31)"
            ],
            [
             0.1,
             "rgb(178,24,43)"
            ],
            [
             0.2,
             "rgb(214,96,77)"
            ],
            [
             0.3,
             "rgb(244,165,130)"
            ],
            [
             0.4,
             "rgb(253,219,199)"
            ],
            [
             0.5,
             "rgb(247,247,247)"
            ],
            [
             0.6,
             "rgb(209,229,240)"
            ],
            [
             0.7,
             "rgb(146,197,222)"
            ],
            [
             0.8,
             "rgb(67,147,195)"
            ],
            [
             0.9,
             "rgb(33,102,172)"
            ],
            [
             1,
             "rgb(5,48,97)"
            ]
           ],
           "sequential": [
            [
             0,
             "#440154"
            ],
            [
             0.1111111111111111,
             "#482878"
            ],
            [
             0.2222222222222222,
             "#3e4989"
            ],
            [
             0.3333333333333333,
             "#31688e"
            ],
            [
             0.4444444444444444,
             "#26828e"
            ],
            [
             0.5555555555555556,
             "#1f9e89"
            ],
            [
             0.6666666666666666,
             "#35b779"
            ],
            [
             0.7777777777777778,
             "#6ece58"
            ],
            [
             0.8888888888888888,
             "#b5de2b"
            ],
            [
             1,
             "#fde725"
            ]
           ],
           "sequentialminus": [
            [
             0,
             "#440154"
            ],
            [
             0.1111111111111111,
             "#482878"
            ],
            [
             0.2222222222222222,
             "#3e4989"
            ],
            [
             0.3333333333333333,
             "#31688e"
            ],
            [
             0.4444444444444444,
             "#26828e"
            ],
            [
             0.5555555555555556,
             "#1f9e89"
            ],
            [
             0.6666666666666666,
             "#35b779"
            ],
            [
             0.7777777777777778,
             "#6ece58"
            ],
            [
             0.8888888888888888,
             "#b5de2b"
            ],
            [
             1,
             "#fde725"
            ]
           ]
          },
          "colorway": [
           "#1F77B4",
           "#FF7F0E",
           "#2CA02C",
           "#D62728",
           "#9467BD",
           "#8C564B",
           "#E377C2",
           "#7F7F7F",
           "#BCBD22",
           "#17BECF"
          ],
          "font": {
           "color": "rgb(36,36,36)"
          },
          "geo": {
           "bgcolor": "white",
           "lakecolor": "white",
           "landcolor": "white",
           "showlakes": true,
           "showland": true,
           "subunitcolor": "white"
          },
          "hoverlabel": {
           "align": "left"
          },
          "hovermode": "closest",
          "mapbox": {
           "style": "light"
          },
          "paper_bgcolor": "white",
          "plot_bgcolor": "white",
          "polar": {
           "angularaxis": {
            "gridcolor": "rgb(232,232,232)",
            "linecolor": "rgb(36,36,36)",
            "showgrid": false,
            "showline": true,
            "ticks": "outside"
           },
           "bgcolor": "white",
           "radialaxis": {
            "gridcolor": "rgb(232,232,232)",
            "linecolor": "rgb(36,36,36)",
            "showgrid": false,
            "showline": true,
            "ticks": "outside"
           }
          },
          "scene": {
           "xaxis": {
            "backgroundcolor": "white",
            "gridcolor": "rgb(232,232,232)",
            "gridwidth": 2,
            "linecolor": "rgb(36,36,36)",
            "showbackground": true,
            "showgrid": false,
            "showline": true,
            "ticks": "outside",
            "zeroline": false,
            "zerolinecolor": "rgb(36,36,36)"
           },
           "yaxis": {
            "backgroundcolor": "white",
            "gridcolor": "rgb(232,232,232)",
            "gridwidth": 2,
            "linecolor": "rgb(36,36,36)",
            "showbackground": true,
            "showgrid": false,
            "showline": true,
            "ticks": "outside",
            "zeroline": false,
            "zerolinecolor": "rgb(36,36,36)"
           },
           "zaxis": {
            "backgroundcolor": "white",
            "gridcolor": "rgb(232,232,232)",
            "gridwidth": 2,
            "linecolor": "rgb(36,36,36)",
            "showbackground": true,
            "showgrid": false,
            "showline": true,
            "ticks": "outside",
            "zeroline": false,
            "zerolinecolor": "rgb(36,36,36)"
           }
          },
          "shapedefaults": {
           "fillcolor": "black",
           "line": {
            "width": 0
           },
           "opacity": 0.3
          },
          "ternary": {
           "aaxis": {
            "gridcolor": "rgb(232,232,232)",
            "linecolor": "rgb(36,36,36)",
            "showgrid": false,
            "showline": true,
            "ticks": "outside"
           },
           "baxis": {
            "gridcolor": "rgb(232,232,232)",
            "linecolor": "rgb(36,36,36)",
            "showgrid": false,
            "showline": true,
            "ticks": "outside"
           },
           "bgcolor": "white",
           "caxis": {
            "gridcolor": "rgb(232,232,232)",
            "linecolor": "rgb(36,36,36)",
            "showgrid": false,
            "showline": true,
            "ticks": "outside"
           }
          },
          "title": {
           "x": 0.05
          },
          "xaxis": {
           "automargin": true,
           "gridcolor": "rgb(232,232,232)",
           "linecolor": "rgb(36,36,36)",
           "showgrid": false,
           "showline": true,
           "ticks": "outside",
           "title": {
            "standoff": 15
           },
           "zeroline": false,
           "zerolinecolor": "rgb(36,36,36)"
          },
          "yaxis": {
           "automargin": true,
           "gridcolor": "rgb(232,232,232)",
           "linecolor": "rgb(36,36,36)",
           "showgrid": false,
           "showline": true,
           "ticks": "outside",
           "title": {
            "standoff": 15
           },
           "zeroline": false,
           "zerolinecolor": "rgb(36,36,36)"
          }
         }
        },
        "title": {
         "font": {
          "color": "Black",
          "size": 22
         },
         "text": "<b>Intertopic Distance Map</b>",
         "x": 0.5,
         "xanchor": "center",
         "y": 0.95,
         "yanchor": "top"
        },
        "width": 650,
        "xaxis": {
         "anchor": "y",
         "domain": [
          0,
          1
         ],
         "range": [
          -14.42203140258789,
          21.55314064025879
         ],
         "title": {
          "text": ""
         },
         "visible": false
        },
        "yaxis": {
         "anchor": "x",
         "domain": [
          0,
          1
         ],
         "range": [
          -29.729042053222656,
          13.526777267456055
         ],
         "title": {
          "text": ""
         },
         "visible": false
        }
       }
      },
      "image/png": "[encoded data removed]"
     },
     "metadata": {},
     "output_type": "display_data"
    }
   ],
   "source": [
    "# Visualizing the relationships between topics\n",
    "topic_model.visualize_topics()\n"
   ]
  },
  {
   "cell_type": "code",
   "execution_count": 8,
   "id": "f1e4cd75-92d1-4225-ab51-770ccbd3fd08",
   "metadata": {},
   "outputs": [
    {
     "data": {
      "image/png": "[encoded data removed]",
      "text/plain": [
       "<Figure size 1500x800 with 1 Axes>"
      ]
     },
     "metadata": {},
     "output_type": "display_data"
    }
   ],
   "source": [
    "import pandas as pd\n",
    "import matplotlib.pyplot as plt\n",
    "import seaborn as sns\n",
    "import numpy as np\n",
    "\n",
    "doc_info = topic_model.get_document_info(df['document'])\n",
    "\n",
    "# We need to extract the topic number for each document\n",
    "df['dominant_topic_bertopic'] = doc_info['Topic']\n",
    "\n",
    "# Group by year and dominant topic to see trends\n",
    "topic_trend = df.groupby(['Year', 'dominant_topic_bertopic']).size().unstack(fill_value=0)\n",
    "\n",
    "# Plotting the topic trends over time\n",
    "plt.figure(figsize=(15, 8))\n",
    "sns.lineplot(data=topic_trend)\n",
    "plt.title('BERTopic Trends Over Time', fontsize=18)\n",
    "plt.xlabel('Year', fontsize=14)\n",
    "plt.ylabel('Number of Articles', fontsize=14)\n",
    "topic_labels = {idx: f'Topic {idx}' for idx in topic_trend.columns if idx != -1}\n",
    "plt.legend(title='Topic', labels=topic_labels.values())\n",
    "plt.grid(True)\n",
    "plt.show();"
   ]
  },
  {
   "cell_type": "markdown",
   "id": "818b631c-bbd9-4ac2-96d1-900f78a6af2e",
   "metadata": {},
   "source": [
    "### Results\n",
    "**Merging Topics to Create Metatopics and Labeling Metatopics**"
   ]
  },
  {
   "cell_type": "code",
   "execution_count": 9,
   "id": "cd697c6a-188b-4936-821a-fa0c746e0c72",
   "metadata": {},
   "outputs": [
    {
     "name": "stdout",
     "output_type": "stream",
     "text": [
      "\n",
      "Topic -1:\n",
      "[('the', np.float64(0.02852905213620947)), ('of', np.float64(0.025364753365523258)), ('and', np.float64(0.023837289858833637)), ('to', np.float64(0.021446222577618895)), ('in', np.float64(0.02074813917937954)), ('energy', np.float64(0.01976776950090561)), ('is', np.float64(0.017552861568626055)), ('for', np.float64(0.01722622980180729)), ('power', np.float64(0.015622439016026635)), ('with', np.float64(0.013992808294728187))]\n",
      "\n",
      "Topic 0:\n",
      "[('the', np.float64(0.028579746344688246)), ('of', np.float64(0.023767266901160367)), ('and', np.float64(0.022870951863092317)), ('to', np.float64(0.021339558293569233)), ('in', np.float64(0.020225203944991964)), ('is', np.float64(0.019867836887743455)), ('energy', np.float64(0.019132434902672555)), ('power', np.float64(0.018626110105590492)), ('for', np.float64(0.017873053715300815)), ('wind', np.float64(0.015479051289738303))]\n",
      "\n",
      "Topic 1:\n",
      "[('production', np.float64(0.03428838359804859)), ('was', np.float64(0.030687622558861965)), ('of', np.float64(0.02906230174242575)), ('and', np.float64(0.02699859221490255)), ('biogas', np.float64(0.025831039243818715)), ('the', np.float64(0.023383241654828652)), ('methane', np.float64(0.022516562522561578)), ('anaerobic', np.float64(0.022262860711760375)), ('waste', np.float64(0.021637578433959494)), ('were', np.float64(0.021281829684259696))]\n",
      "\n",
      "Topic 2:\n",
      "[('turbine', np.float64(0.039664705200469844)), ('wind', np.float64(0.03892332259139936)), ('fault', np.float64(0.03360825222800688)), ('turbines', np.float64(0.028295947362710083)), ('maintenance', np.float64(0.027666753883376815)), ('of', np.float64(0.027381959645760304)), ('the', np.float64(0.027005438986070492)), ('monitoring', np.float64(0.025152671401279213)), ('and', np.float64(0.024373355572579903)), ('to', np.float64(0.022522817420208376))]\n",
      "\n",
      "Topic 3:\n",
      "[('biodiesel', np.float64(0.050541023800211124)), ('oil', np.float64(0.04164501324875836)), ('of', np.float64(0.030308868249165035)), ('and', np.float64(0.029422682203775672)), ('the', np.float64(0.026178642288495705)), ('fuel', np.float64(0.025164186808410094)), ('was', np.float64(0.022940172691424107)), ('engine', np.float64(0.02236272588902456)), ('biooil', np.float64(0.022268067402906024)), ('in', np.float64(0.02135853319463762))]\n",
      "\n",
      "Topic 4:\n",
      "[('development', np.float64(0.03948108394143097)), ('energy', np.float64(0.036618939684806215)), ('countries', np.float64(0.03531920387511057)), ('the', np.float64(0.02964402134645464)), ('and', np.float64(0.02750795543161136)), ('analysis', np.float64(0.026511228182540328)), ('in', np.float64(0.025962656408280778)), ('of', np.float64(0.02575766275177043)), ('indicators', np.float64(0.02469890687150153)), ('index', np.float64(0.02235826726684063))]\n",
      "\n",
      "Topic 5:\n",
      "[('catalyst', np.float64(0.054664973612521435)), ('hydrogen', np.float64(0.05190232766216687)), ('catalysts', np.float64(0.03786037453233287)), ('reaction', np.float64(0.030360896167292498)), ('nabh4', np.float64(0.028214848395685357)), ('of', np.float64(0.02577395396154791)), ('activity', np.float64(0.025739963507325287)), ('the', np.float64(0.0238659429160653)), ('and', np.float64(0.023649091298602595)), ('catalytic', np.float64(0.0231770054459577))]\n",
      "\n",
      "Topic 6:\n",
      "[('biomass', np.float64(0.033083275857360525)), ('and', np.float64(0.02927157161018925)), ('the', np.float64(0.026867179791140578)), ('of', np.float64(0.02658974489793576)), ('decision', np.float64(0.02629635055662514)), ('forest', np.float64(0.02460487698099892)), ('to', np.float64(0.022262077909043172)), ('in', np.float64(0.02134077041352049)), ('for', np.float64(0.020386640890156193)), ('energy', np.float64(0.020332037245724424))]\n",
      "\n",
      "Topic 7:\n",
      "[('battery', np.float64(0.06963856429152421)), ('batteries', np.float64(0.04841745538876531)), ('of', np.float64(0.028210184456123485)), ('the', np.float64(0.027558665036875117)), ('soc', np.float64(0.02592553277584829)), ('estimation', np.float64(0.022919081044461113)), ('in', np.float64(0.02208145225634437)), ('to', np.float64(0.02084267403928169)), ('storage', np.float64(0.020797166305023915)), ('is', np.float64(0.02064872293329835))]\n",
      "\n",
      "Topic 8:\n",
      "[('turbine', np.float64(0.054190744559987306)), ('blade', np.float64(0.04589993653360467)), ('the', np.float64(0.03261043691830959)), ('design', np.float64(0.030029477750475368)), ('wind', np.float64(0.028707296740441233)), ('of', np.float64(0.026488570688657728)), ('to', np.float64(0.02245358323156219)), ('is', np.float64(0.02162331992597724)), ('turbines', np.float64(0.020198389794815714)), ('and', np.float64(0.020132882554472487))]\n"
     ]
    }
   ],
   "source": [
    "# 1. Analyzing top words per topic to identify candidates for merging\n",
    "for topic_num in topic_model.get_topic_info().head(10)['Topic']:\n",
    "    print(f\"\\nTopic {topic_num}:\")\n",
    "    print(topic_model.get_topic(topic_num))\n"
   ]
  },
  {
   "cell_type": "code",
   "execution_count": 16,
   "id": "7872b73b-0f83-4778-93ae-c0a7fe69c575",
   "metadata": {},
   "outputs": [],
   "source": [
    "# 2. Manually defining topic groups that are semantically related\n",
    "\n",
    "solar_group = [1, 4, 5, 8]                       # Topics related to Solar Energy\n",
    "wind_group = [2, 6, 14]                          # Topics related to Wind Power\n",
    "deep_learning_group = [3, 9, 12]                 # Topics on Deep Learning and AI Applications\n"
   ]
  },
  {
   "cell_type": "code",
   "execution_count": null,
   "id": "8befb15d-db68-42d8-81bf-b5b0380b0767",
   "metadata": {},
   "outputs": [],
   "source": [
    "# 3. Merge topics using BERTopic's merge_topics function\n",
    "\n",
    "topic_model = topic_model.merge_topics(df['document'], [1, 4, 5, 8])   # Solar Energy\n",
    "topic_model = topic_model.merge_topics(df['document'], [2, 6, 14])    # Wind Power\n",
    "topic_model = topic_model.merge_topics(df['document'], [3, 9, 12])    # Deep Learning"
   ]
  },
  {
   "cell_type": "code",
   "execution_count": 13,
   "id": "870a3838-7580-4351-bc64-62abf134718a",
   "metadata": {},
   "outputs": [
    {
     "name": "stdout",
     "output_type": "stream",
     "text": [
      "\n",
      "Updated Topic Info after Merging:\n"
     ]
    },
    {
     "ename": "AttributeError",
     "evalue": "'NoneType' object has no attribute 'get_topic_info'",
     "output_type": "error",
     "traceback": [
      "\u001b[1;31m---------------------------------------------------------------------------\u001b[0m",
      "\u001b[1;31mAttributeError\u001b[0m                            Traceback (most recent call last)",
      "Cell \u001b[1;32mIn[13], line 3\u001b[0m\n\u001b[0;32m      1\u001b[0m \u001b[38;5;66;03m# 4. Review updated topics\u001b[39;00m\n\u001b[0;32m      2\u001b[0m \u001b[38;5;28mprint\u001b[39m(\u001b[38;5;124m\"\u001b[39m\u001b[38;5;130;01m\\n\u001b[39;00m\u001b[38;5;124mUpdated Topic Info after Merging:\u001b[39m\u001b[38;5;124m\"\u001b[39m)\n\u001b[1;32m----> 3\u001b[0m \u001b[38;5;28mprint\u001b[39m(\u001b[43mtopic_model\u001b[49m\u001b[38;5;241;43m.\u001b[39;49m\u001b[43mget_topic_info\u001b[49m()\u001b[38;5;241m.\u001b[39mhead(\u001b[38;5;241m10\u001b[39m))\n",
      "\u001b[1;31mAttributeError\u001b[0m: 'NoneType' object has no attribute 'get_topic_info'"
     ]
    }
   ],
   "source": [
    "# 4. Review updated topics\n",
    "print(\"\\nUpdated Topic Info after Merging:\")\n",
    "print(topic_model.get_topic_info().head(10))\n"
   ]
  },
  {
   "cell_type": "code",
   "execution_count": 14,
   "id": "981a5905-1ef9-4a37-bc64-aae6b1595fda",
   "metadata": {},
   "outputs": [
    {
     "ename": "AttributeError",
     "evalue": "'NoneType' object has no attribute 'set_topic_labels'",
     "output_type": "error",
     "traceback": [
      "\u001b[1;31m---------------------------------------------------------------------------\u001b[0m",
      "\u001b[1;31mAttributeError\u001b[0m                            Traceback (most recent call last)",
      "Cell \u001b[1;32mIn[14], line 9\u001b[0m\n\u001b[0;32m      1\u001b[0m \u001b[38;5;66;03m# 5. Labelling the merged topics (for presentation/discussion)\u001b[39;00m\n\u001b[0;32m      2\u001b[0m custom_labels \u001b[38;5;241m=\u001b[39m {\n\u001b[0;32m      3\u001b[0m     \u001b[38;5;241m1\u001b[39m: \u001b[38;5;124m\"\u001b[39m\u001b[38;5;124mSolar Energy Systems\u001b[39m\u001b[38;5;124m\"\u001b[39m,\n\u001b[0;32m      4\u001b[0m     \u001b[38;5;241m2\u001b[39m: \u001b[38;5;124m\"\u001b[39m\u001b[38;5;124mWind Power Forecasting & Grid Integration\u001b[39m\u001b[38;5;124m\"\u001b[39m,\n\u001b[0;32m      5\u001b[0m     \u001b[38;5;241m3\u001b[39m: \u001b[38;5;124m\"\u001b[39m\u001b[38;5;124mDeep Learning in Energy Management\u001b[39m\u001b[38;5;124m\"\u001b[39m,\n\u001b[0;32m      6\u001b[0m     \u001b[38;5;66;03m# Add or adjust based on your final topics\u001b[39;00m\n\u001b[0;32m      7\u001b[0m }\n\u001b[1;32m----> 9\u001b[0m \u001b[43mtopic_model\u001b[49m\u001b[38;5;241;43m.\u001b[39;49m\u001b[43mset_topic_labels\u001b[49m(custom_labels)\n",
      "\u001b[1;31mAttributeError\u001b[0m: 'NoneType' object has no attribute 'set_topic_labels'"
     ]
    }
   ],
   "source": [
    "# 5. Labelling the merged topics (for presentation/discussion)\n",
    "custom_labels = {\n",
    "    1: \"Solar Energy Systems\",\n",
    "    2: \"Wind Power Forecasting & Grid Integration\",\n",
    "    3: \"Deep Learning in Energy Management\",\n",
    "    # Add or adjust based on your final topics\n",
    "}\n",
    "\n",
    "topic_model.set_topic_labels(custom_labels)\n"
   ]
  },
  {
   "cell_type": "markdown",
   "id": "8df5918c-7387-4729-8c47-2949d3e3a92c",
   "metadata": {},
   "source": [
    "### Discussions"
   ]
  },
  {
   "cell_type": "code",
   "execution_count": null,
   "id": "42acf504-88e8-4ad6-98a9-1aa397b28ee0",
   "metadata": {},
   "outputs": [],
   "source": [
    "# 6. Visualize topics with new labels (optional)\n",
    "topic_model.visualize_topics()\n",
    "topic_model.visualize_barchart(top_n_topics=10)"
   ]
  },
  {
   "cell_type": "code",
   "execution_count": null,
   "id": "70dea954-cce5-433d-be6c-ff6bcbadbf52",
   "metadata": {},
   "outputs": [],
   "source": [
    "# 1. Visualize updated topic clusters\n",
    "fig_topics = topic_model.visualize_topics()\n",
    "fig_topics.show()\n",
    "\n",
    "# Exporting to HTML\n",
    "fig_topics.write_html(\"topics_visualization.html\")\n"
   ]
  },
  {
   "cell_type": "code",
   "execution_count": null,
   "id": "bd4cde48-dda2-4a1d-97a8-c9f751b66292",
   "metadata": {},
   "outputs": [],
   "source": [
    "# 2. Visualize topic frequency (Top N topics)\n",
    "fig_barchart = topic_model.visualize_barchart(top_n_topics=10)\n",
    "fig_barchart.show()\n",
    "fig_barchart.write_html(\"topic_barchart.html\")\n"
   ]
  },
  {
   "cell_type": "code",
   "execution_count": null,
   "id": "0381dac3-18e3-4bce-8f1e-b718f4c15e0f",
   "metadata": {},
   "outputs": [],
   "source": [
    "# 3. Visualize topic hierarchy\n",
    "fig_hierarchy = topic_model.visualize_hierarchy()\n",
    "fig_hierarchy.show()\n",
    "fig_hierarchy.write_html(\"topic_hierarchy.html\")\n"
   ]
  },
  {
   "cell_type": "code",
   "execution_count": null,
   "id": "d6f9255b-acf7-4bf5-9c23-744b99cdaf0b",
   "metadata": {},
   "outputs": [],
   "source": [
    "# 4. Visualize similarity matrix\n",
    "fig_heatmap = topic_model.visualize_heatmap()\n",
    "fig_heatmap.show()\n",
    "fig_heatmap.write_html(\"topic_heatmap.html\")\n"
   ]
  },
  {
   "cell_type": "code",
   "execution_count": null,
   "id": "79295c90-84a9-4052-8bac-7749d230bd04",
   "metadata": {},
   "outputs": [],
   "source": [
    "# 5. Visualize topic evolution over time\n",
    "df['Year'] = df['Year'].fillna(0).astype(int)\n",
    "\n",
    "topics_over_time = topic_model.topics_over_time(documents, df['Year'])\n",
    "fig_trends = topic_model.visualize_topics_over_time(topics_over_time)\n",
    "fig_trends.show()\n",
    "fig_trends.write_html(\"topic_trends_over_time.html\")"
   ]
  },
  {
   "cell_type": "code",
   "execution_count": null,
   "id": "87f415fd-efb2-490f-9b64-66f877d452e4",
   "metadata": {},
   "outputs": [],
   "source": []
  },
  {
   "cell_type": "code",
   "execution_count": null,
   "id": "c0be6dad-b2af-4517-b238-5cd4b382f155",
   "metadata": {},
   "outputs": [],
   "source": []
  }
 ],
 "metadata": {
  "kernelspec": {
   "display_name": "Python (bertopic_env)",
   "language": "python",
   "name": "bertopic_env"
  },
  "language_info": {
   "codemirror_mode": {
    "name": "ipython",
    "version": 3
   },
   "file_extension": ".py",
   "mimetype": "text/x-python",
   "name": "python",
   "nbconvert_exporter": "python",
   "pygments_lexer": "ipython3",
   "version": "3.9.23"
  }
 },
 "nbformat": 4,
 "nbformat_minor": 5
}
